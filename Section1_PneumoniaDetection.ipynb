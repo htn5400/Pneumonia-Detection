{
  "cells": [
    {
      "cell_type": "markdown",
      "metadata": {
        "id": "view-in-github",
        "colab_type": "text"
      },
      "source": [
        "<a href=\"https://colab.research.google.com/github/htn5400/Pneumonia-Detection/blob/main/Section1_PneumoniaDetection.ipynb\" target=\"_parent\"><img src=\"https://colab.research.google.com/assets/colab-badge.svg\" alt=\"Open In Colab\"/></a>"
      ]
    },
    {
      "cell_type": "markdown",
      "metadata": {
        "id": "xyvASmeODyC3"
      },
      "source": [
        "Objective: Build an AI tool that can help doctors tell if patients have pneumonia.\n",
        "Identify:\n",
        "* Who are the key stakeholders? Radiologists AND patients\n",
        "* What kind of data is needed? (x-ray images)\n",
        "\n",
        "Preliminary steps: explore the dataset, practice some image manipulation techniques, and then start iterating with AI model design.\n"
      ]
    },
    {
      "cell_type": "code",
      "execution_count": null,
      "metadata": {
        "id": "DMoymbJeqib4",
        "colab": {
          "base_uri": "https://localhost:8080/"
        },
        "outputId": "c42217d0-304e-4ec4-cbf0-398b683301c5"
      },
      "outputs": [
        {
          "output_type": "stream",
          "name": "stdout",
          "text": [
            "metadata.csv        100%[===================>]  39.56K  --.-KB/s    in 0.001s  \n",
            "image_data.npy      100%[===================>] 131.25M   146MB/s    in 0.9s    \n"
          ]
        }
      ],
      "source": [
        "#@title Run this to download data and prepare our environment. { display-mode: \"form\" }\n",
        "import os\n",
        "import numpy as np\n",
        "import pandas as pd\n",
        "\n",
        "import seaborn as sns\n",
        "import matplotlib.pyplot as plt\n",
        "\n",
        "from sklearn.linear_model import LogisticRegression\n",
        "from sklearn.neural_network import MLPClassifier\n",
        "from sklearn.neighbors import KNeighborsClassifier\n",
        "from sklearn.tree import DecisionTreeClassifier\n",
        "from sklearn.metrics import accuracy_score\n",
        "\n",
        "class pkg:\n",
        "  #### DOWNLOADING AND LOADING DATA\n",
        "  def get_metadata(metadata_path, which_splits = ['train', 'test']):\n",
        "    '''returns metadata dataframe which contains columns of:\n",
        "       * index: index of data into numpy data\n",
        "       * class: class of image\n",
        "       * split: which dataset split is this a part of?\n",
        "    '''\n",
        "    metadata = pd.read_csv(metadata_path)\n",
        "    keep_idx = metadata['split'].isin(which_splits)\n",
        "    return metadata[keep_idx]\n",
        "\n",
        "  def get_data_split(split_name, flatten, all_data, metadata, image_shape):\n",
        "    '''\n",
        "    returns images (data), labels from folder of format [image_folder]/[split_name]/[class_name]/\n",
        "    flattens if flatten option is True\n",
        "    '''\n",
        "    sub_df = metadata[metadata['split'].isin([split_name])]\n",
        "    index  = sub_df['index'].values\n",
        "    labels = sub_df['class'].values\n",
        "    data = all_data[index,:]\n",
        "    if flatten:\n",
        "      data = data.reshape([-1, np.product(image_shape)])\n",
        "    return data, labels\n",
        "\n",
        "  def get_train_data(flatten, all_data, metadata, image_shape):\n",
        "    return get_data_split('train', flatten, all_data, metadata, image_shape)\n",
        "\n",
        "  def get_test_data(flatten, all_data, metadata, image_shape):\n",
        "    return get_data_split('test', flatten, all_data, metadata, image_shape)\n",
        "\n",
        "class helpers:\n",
        "  #### PLOTTING\n",
        "  def plot_images(data, labels = [], index = None, image_shape = [64,64,3]):\n",
        "    '''\n",
        "    if data is a single image, display that image\n",
        "\n",
        "    if data is a 4d stack of images, display that image\n",
        "    '''\n",
        "    num_dims   = len(data.shape)\n",
        "    num_labels = len(labels)\n",
        "\n",
        "    # reshape data if necessary\n",
        "    if num_dims == 1:\n",
        "      data = data.reshape(target_shape)\n",
        "    if num_dims == 2:\n",
        "      data = data.reshape(np.vstack[-1, image_shape])\n",
        "    num_dims   = len(data.shape)\n",
        "\n",
        "    # check if single or multiple images\n",
        "    if num_dims == 3:\n",
        "      if num_labels > 1:\n",
        "        print('Multiple labels does not make sense for single image.')\n",
        "        return\n",
        "\n",
        "      label = labels\n",
        "      if num_labels == 0:\n",
        "        label = ''\n",
        "      image = data\n",
        "\n",
        "    if num_dims == 4:\n",
        "      image = data[index, :]\n",
        "      label = labels[index]\n",
        "\n",
        "    # plot image of interest\n",
        "    print('Label: %s'%label)\n",
        "    plt.imshow(image)\n",
        "    plt.show()\n",
        "\n",
        "  def plot_acc(history, ax = None, xlabel = 'Epoch #'):\n",
        "    # i'm sorry for this function's code. i am so sorry.\n",
        "    history = history.history\n",
        "    history.update({'epoch':list(range(len(history['val_accuracy'])))})\n",
        "    history = pd.DataFrame.from_dict(history)\n",
        "\n",
        "    best_epoch = history.sort_values(by = 'val_accuracy', ascending = False).iloc[0]['epoch']\n",
        "\n",
        "    if not ax:\n",
        "      f, ax = plt.subplots(1,1)\n",
        "    sns.lineplot(x = 'epoch', y = 'val_accuracy', data = history, label = 'Validation', ax = ax)\n",
        "    sns.lineplot(x = 'epoch', y = 'accuracy', data = history, label = 'Training', ax = ax)\n",
        "    ax.axhline(0.5, linestyle = '--',color='red', label = 'Chance')\n",
        "    ax.axvline(x = best_epoch, linestyle = '--', color = 'green', label = 'Best Epoch')\n",
        "    ax.legend(loc = 1)\n",
        "    ax.set_ylim([0.4, 1])\n",
        "\n",
        "    ax.set_xlabel(xlabel)\n",
        "    ax.set_ylabel('Accuracy (Fraction)')\n",
        "\n",
        "    plt.show()\n",
        "\n",
        "### defining project variables\n",
        "# file variables\n",
        "metadata_url         = \"https://storage.googleapis.com/inspirit-ai-data-bucket-1/Data/AI%20Scholars/Sessions%206%20-%2010%20(Projects)/Project%20-%20(Healthcare%20A)%20Pneumonia/metadata.csv\"\n",
        "image_data_url       = 'https://storage.googleapis.com/inspirit-ai-data-bucket-1/Data/AI%20Scholars/Sessions%206%20-%2010%20(Projects)/Project%20-%20(Healthcare%20A)%20Pneumonia/image_data.npy'\n",
        "image_data_path      = './image_data.npy'\n",
        "metadata_path        = './metadata.csv'\n",
        "image_shape          = (64, 64, 3)\n",
        "\n",
        "# neural net parameters\n",
        "nn_params = {}\n",
        "nn_params['input_shape']       = image_shape\n",
        "nn_params['output_neurons']    = 1\n",
        "nn_params['loss']              = 'binary_crossentropy'\n",
        "nn_params['output_activation'] = 'sigmoid'\n",
        "\n",
        "###\n",
        "!wget -q --show-progress \"https://storage.googleapis.com/inspirit-ai-data-bucket-1/Data/AI%20Scholars/Sessions%206%20-%2010%20(Projects)/Project%20-%20(Healthcare%20A)%20Pneumonia/metadata.csv\"\n",
        "!wget -q --show-progress \"https://storage.googleapis.com/inspirit-ai-data-bucket-1/Data/AI%20Scholars/Sessions%206%20-%2010%20(Projects)/Project%20-%20(Healthcare%20A)%20Pneumonia/image_data.npy\"\n",
        "\n",
        "### pre-loading all data of interest\n",
        "_all_data = np.load('image_data.npy')\n",
        "_metadata = pkg.get_metadata(metadata_path, ['train','test','field'])\n",
        "\n",
        "### preparing definitions\n",
        "# downloading and loading data\n",
        "get_data_split = pkg.get_data_split\n",
        "get_metadata    = lambda :                 pkg.get_metadata(metadata_path, ['train','test'])\n",
        "get_train_data  = lambda flatten = False : pkg.get_train_data(flatten = flatten, all_data = _all_data, metadata = _metadata, image_shape = image_shape)\n",
        "get_test_data   = lambda flatten = False : pkg.get_test_data(flatten = flatten, all_data = _all_data, metadata = _metadata, image_shape = image_shape)\n",
        "get_field_data  = lambda flatten = False : pkg.get_field_data(flatten = flatten, all_data = _all_data, metadata = _metadata, image_shape = image_shape)\n",
        "\n",
        "# plotting\n",
        "plot_images = lambda data, labels = [], index = None: helpers.plot_images(data = data, labels = labels, index = index, image_shape = image_shape);\n"
      ]
    },
    {
      "cell_type": "markdown",
      "metadata": {
        "id": "ywKkFG0x6SK6"
      },
      "source": [
        "# Milestone 1. Understanding medical imaging, pneumonia, and x-rays\n"
      ]
    },
    {
      "cell_type": "markdown",
      "metadata": {
        "id": "-0Tb1h9J7t_H"
      },
      "source": [
        "**Discuss: Who are Radiologists? What is Pneumonia?**"
      ]
    },
    {
      "cell_type": "markdown",
      "metadata": {
        "id": "o_FHjcMe6W9e"
      },
      "source": [
        "## Exercise (Discussion)"
      ]
    },
    {
      "cell_type": "markdown",
      "metadata": {
        "id": "VW_R9YsR8XTI"
      },
      "source": [
        "If you have ever broken a bone, it is likely that you had an x-ray.\n",
        "\n",
        "![](http://www.seriousinjuryhelpline.co.uk/wp-content/uploads/2016/09/arm-break-320x320.jpg)"
      ]
    },
    {
      "cell_type": "code",
      "execution_count": null,
      "metadata": {
        "id": "rpdIchi28bSw"
      },
      "outputs": [],
      "source": [
        "#@title What part of your body was this x-ray was taken on? What happened to this body part? { display-mode: \"form\" }\n",
        "BodyPart= \"Your answer\" #@param [\"Your answer\",\"Leg\",\"Lung\",\"Heart\",\"Arm\"]\n",
        "WhatHappened = \"Your answer\" #@param [\"Your answer\",\"Bruise\",\"Fracture\",\"Nothing\"]\n",
        "\n",
        "if BodyPart == 'Arm':\n",
        "  print('Yes! It is your arm. You can see your hand and your forearm.')\n",
        "  if WhatHappened == \"Fracture\":\n",
        "    print(\"One of your forearm bones broke. :( This is known as a fracture.\")\n",
        "  else:\n",
        "    print('Try again! Not quite what happened.')\n",
        "else:\n",
        "  print('Try again! Not quite that body part or quite what happened.')\n",
        "\n"
      ]
    },
    {
      "cell_type": "markdown",
      "metadata": {
        "id": "5NJfbJG88jox"
      },
      "source": [
        "## Exercise (Discussion)"
      ]
    },
    {
      "cell_type": "markdown",
      "metadata": {
        "id": "hHVVYGl_LDS0"
      },
      "source": [
        "So, how does an x-ray work and what kind of data does it give us? Let's learn about x-rays by watching the following video (click the image!)\n",
        "\n",
        "[![How x-rays work](http://i3.ytimg.com/vi/gsV7SJDDCY4/hqdefault.jpg)](https://www.youtube.com/watch?v=gsV7SJDDCY4 \"Everything Is AWESOME\")\n"
      ]
    },
    {
      "cell_type": "code",
      "execution_count": null,
      "metadata": {
        "id": "ZXgPsU1T8sBw"
      },
      "outputs": [],
      "source": [
        "#@title Rank how well x-rays will pass through bone, fat, water, and air. { display-mode: \"form\" }\n",
        "\n",
        "Best = \"Your answer\" #@param [\"Your answer\", \"Bone\",\"Fat\",\"Water\",\"Air\"]\n",
        "Second = \"Your answer\" #@param [\"Your answer\", \"Bone\",\"Fat\",\"Water\",\"Air\"]\n",
        "Third = \"Your answer\" #@param [\"Your answer\", \"Bone\",\"Fat\",\"Water\",\"Air\"]\n",
        "Worst = \"Your answer\" #@param [\"Your answer\", \"Bone\",\"Fat\",\"Water\",\"Air\"]\n",
        "\n",
        "\n",
        "if (Best == \"Air\") & (Second == \"Fat\") & (Third == \"Water\") & (Worst == \"Bone\"):\n",
        "  print(\"Yes! X-rays don't pass very well through bone and pass the best through air. \") # embellish this explanation!!!\n",
        "else:\n",
        "  print('Try again! Think about how well each one passes through.')\n",
        "\n",
        "# what is the major risk factor of using an x-ray?\n",
        "### radiation\n",
        "# why do we still use x-rays if we have this risk factor?\n",
        "### because it helps us!\n",
        "\n"
      ]
    },
    {
      "cell_type": "code",
      "execution_count": null,
      "metadata": {
        "id": "7Xw2FBFv8xQK"
      },
      "outputs": [],
      "source": [
        "#@title What is the major risk factor of using an x-ray? { display-mode: \"form\" }\n",
        "\n",
        "RiskFactor  = \"Your answer\" #@param [\"Your answer\", \"Bruising\", \"Radiation\", \"Cost\", \"Time\"]\n",
        "\n",
        "if RiskFactor == 'Radiation':\n",
        "  print(\"Yes! X-rays emit radiation that can be harmful to the body.\")\n",
        "if RiskFactor == \"Cost\":\n",
        "  print(\"It may be costly to take one but cost is not a risk factor!\")\n",
        "if RiskFactor == \"Time\":\n",
        "  print(\"It may take a while to get one but time is not a risk factor!\")\n",
        "if RiskFactor == \"Bruising\":\n",
        "  print(\"Not quite! X-rays don't cause bruising.\")"
      ]
    },
    {
      "cell_type": "markdown",
      "metadata": {
        "id": "buNVdbzNpHvh"
      },
      "source": [
        "### **Discuss**: If this risk exists, why do we still use x-rays?"
      ]
    },
    {
      "cell_type": "markdown",
      "metadata": {
        "id": "G4r1_Pc3vEKD"
      },
      "source": [
        "# Milestone 2. Understand and visualizing our data"
      ]
    },
    {
      "cell_type": "markdown",
      "metadata": {
        "id": "GbjXNQ0b6fZm"
      },
      "source": [
        "\n",
        "## Activity 2a. What data do we have?\n"
      ]
    },
    {
      "cell_type": "markdown",
      "metadata": {
        "id": "Q4xmAl3AvlJw"
      },
      "source": [
        "### Exercise (Coding)"
      ]
    },
    {
      "cell_type": "markdown",
      "metadata": {
        "id": "_ddJwzM_VBxL"
      },
      "source": [
        "Our radiologist colleagues have helpfully provided the data sorted into testing and training data. Before we look at the images, let's take a look at the **metadata** (information about the images!)"
      ]
    },
    {
      "cell_type": "code",
      "execution_count": null,
      "metadata": {
        "id": "QSkCbAg7Jdvt"
      },
      "outputs": [],
      "source": [
        "# get a table with information about ALL of our images\n",
        "metadata = get_metadata()\n",
        "\n",
        "# what does it look like?\n",
        "metadata"
      ]
    },
    {
      "cell_type": "code",
      "execution_count": null,
      "metadata": {
        "id": "hmR_ZhL-kSCA"
      },
      "outputs": [],
      "source": [
        "#@title Let's answer some questions about our metadata's columns: { display-mode: \"form\" }\n",
        "\n",
        "#@markdown What does the **class** column show us?\n",
        "class_column = \"Pneumonia or Healthy\" #@param [\"Choose an Answer\", \"Training and Testing data\", \"Pneumonia or Healthy\", \"Location in data\"]\n",
        "\n",
        "#@markdown What does the **split** column show us?\n",
        "split_column = \"Training and Testing data\" #@param [\"Choose an Answer\", \"Training and Testing data\", \"Pneumonia or Healthy\", \"Location in data\"]\n",
        "\n",
        "#@markdown What does the **index** column show us?\n",
        "index_column = \"Location in data\" #@param [\"Choose an Answer\", \"Training and Testing data\", \"Pneumonia or Healthy\", \"Location in data\"]\n",
        "\n",
        "\n",
        "if class_column == \"Pneumonia or Healthy\":\n",
        "  print(\"Yes! Our metadata's class column contains pneumonia xrays and healthy ones.\")\n",
        "else:\n",
        "  print(\"Try again for the class column!\")\n",
        "\n",
        "if split_column == \"Training and Testing data\":\n",
        "  print(\"Yes! Our metadata has already been split into the train and test data.\")\n",
        "else:\n",
        "  print(\"Try again for the split column!\")\n",
        "\n",
        "if index_column == \"Location in data\":\n",
        "  print(\"Yes! An xray's index will tell us where it is in our metadata.\")\n",
        "else:\n",
        "  print(\"Try again for the index column!\")\n",
        "\n"
      ]
    },
    {
      "cell_type": "code",
      "execution_count": null,
      "metadata": {
        "id": "6i6AC-dLrbQk"
      },
      "outputs": [],
      "source": [
        "#@title Let's answer some questions about the numbers in our metadata: { display-mode: \"form\" }\n",
        "\n",
        "#@markdown What does a **1** in the class column tell us?\n",
        "class_1 = \"Pneumonia\" #@param [\"Choose an Answer\", \"Healthy\", \"Pneumonia\", \"Benign\", \"Malignant\"]\n",
        "\n",
        "#@markdown What does a **0** in the class column tell us?\n",
        "class_0 = \"Healthy\" #@param [\"Choose an Answer\", \"Healthy\", \"Pneumonia\", \"Benign\", \"Malignant\"]\n",
        "\n",
        "#@markdown What do the 2400 rows tell us?\n",
        "rows = \"Number of Images Total\" #@param [\"Choose an Answer\", \"Number of Features\", \"Number of Images Total\"]\n",
        "\n",
        "if class_1 == \"Pneumonia\":\n",
        "  print(\"Yes! Pneumonia is encoded as 1 in the class column.\")\n",
        "elif class_1 == \"Healthy\":\n",
        "  print(\"A class of 1 is not healthy. Try again!\")\n",
        "else:\n",
        "  print(\"Try again! Note that there aren't any cancer xrays in our metadata.\")\n",
        "\n",
        "if class_0 == \"Healthy\":\n",
        "  print(\"Yes! Healthy is encoded as 0 in the class column.\")\n",
        "elif class_1 == \"Pneumonia\":\n",
        "  print(\"A class of 1 is not pneumonia. Try again!\")\n",
        "else:\n",
        "  print(\"Try again! Note that there aren't any cancer xrays in our metadata.\")\n",
        "\n",
        "if rows == \"Number of Images Total\":\n",
        "  print(\"Yes! We have 2400 images in our dataset.\")\n",
        "else:\n",
        "  print(\"Try again for the meaning of the 2400 rows!\")"
      ]
    },
    {
      "cell_type": "markdown",
      "metadata": {
        "id": "sUvx6C0RJk6W"
      },
      "source": [
        "#Counting Images\n",
        "We want to know how many **pneumonia-affected** and how many **healthy** images we have. We can count this with pandas or we can visualize it with seaborn.\n",
        "\n",
        "For pandas, you can try:\n",
        "```\n",
        "data_table.groupby(['column_name']).count()\n",
        "```\n",
        "\n",
        "For visualizing in graphs, we will want to use the following:\n",
        "\n",
        "```\n",
        "sns.countplot(x = 'column_name', data = data_table)\n",
        "```\n"
      ]
    },
    {
      "cell_type": "code",
      "execution_count": null,
      "metadata": {
        "id": "cdBmBj-KJ2ex"
      },
      "outputs": [],
      "source": [
        "# grab our seaborn visualization toolbox!\n",
        "import seaborn as sns\n",
        "\n",
        "### YOUR CODE HERE\n",
        "metadata.groupby(['class']).count()\n",
        "sns.countplot(x = 'class', data = metadata)\n",
        "### END CODE"
      ]
    },
    {
      "cell_type": "markdown",
      "metadata": {
        "id": "C9I_cSyURSIA"
      },
      "source": [
        "We split our data into different 'sets' that each will work differently with our machine learning model.\n",
        "\n",
        "Think of our AI as a machine learning 'student'.\n",
        "\n",
        "**Training Set:** Our training set is like a training manual. Our algorithm will read, or 'train', on this over and over again to try and learn its task.\n",
        "\n",
        "**Test Set:** Our test set is like a test. It is testing our model on problems that it has not seen before.\n",
        "\n",
        "**We usually have a much larger training set than test set. Let's see if this is the case with our data!**\n"
      ]
    },
    {
      "cell_type": "markdown",
      "metadata": {
        "id": "Wt44VQeIJ99R"
      },
      "source": [
        "Notice that our 'split' designation is found in the metadata. Plot the count of each 'set' in our data below:"
      ]
    },
    {
      "cell_type": "code",
      "execution_count": null,
      "metadata": {
        "id": "TWr3MI0SKKUp"
      },
      "outputs": [],
      "source": [
        "### YOUR CODE HERE\n",
        "metadata.groupby(['split']).count()\n",
        "sns.countplot(x = 'split', data = metadata)\n",
        "### END CODE"
      ]
    },
    {
      "cell_type": "markdown",
      "metadata": {
        "id": "jSQywjuw6auW"
      },
      "source": [
        "We are also interested in how many of each 'class' (**pneumonia** or **healthy**) we have in each 'split' (train or test)\n",
        "group by set and count the classes: for example, how many of the Training Set images are pneumonia?\n",
        "\n",
        "Try this out with your group! Some hints:\n",
        "* If you use `.groupby()` along with `count()`, you can pass in a list of different variables.\n",
        "* You can plot the count and add another variable called `hue` to be either `class` or `split` using the structure below:\n",
        "```\n",
        "sns.countplot(x = 'column_name', hue = 'column_name', data = data_table)\n",
        "```\n"
      ]
    },
    {
      "cell_type": "code",
      "execution_count": null,
      "metadata": {
        "id": "boZOmt6DDsil"
      },
      "outputs": [],
      "source": [
        "### YOUR CODE HERE\n",
        "\n",
        "### END CODE"
      ]
    },
    {
      "cell_type": "code",
      "execution_count": null,
      "metadata": {
        "id": "rQ76rWUOy6HK",
        "cellView": "form"
      },
      "outputs": [],
      "source": [
        "#@title Solution\n",
        "metadata.groupby(['split', 'class']).count()\n",
        "sns.countplot(x = 'split', hue = 'class', data = metadata)"
      ]
    },
    {
      "cell_type": "markdown",
      "metadata": {
        "id": "JBHUX917wkeo"
      },
      "source": [
        "## Activity 2b. What does our data look like?"
      ]
    },
    {
      "cell_type": "markdown",
      "metadata": {
        "id": "WXpRiS2qENjQ"
      },
      "source": [
        "Now, let's take a look at the data itself!\n",
        "\n",
        "**Question: What format do you think our data are in?**\n",
        "\n",
        "Discuss this with your group!\n",
        "\n"
      ]
    },
    {
      "cell_type": "markdown",
      "metadata": {
        "id": "86FTqK8JwDjk"
      },
      "source": [
        "### Exercise (Coding)"
      ]
    },
    {
      "cell_type": "markdown",
      "metadata": {
        "id": "BSzo7bJyEhfq"
      },
      "source": [
        "We will check what we think the data is against what python tells us it is. Let's start by loading in the data and the labels:\n"
      ]
    },
    {
      "cell_type": "code",
      "execution_count": null,
      "metadata": {
        "id": "wzCkAqWPYHsP"
      },
      "outputs": [],
      "source": [
        "X_train, y_train = get_train_data()"
      ]
    },
    {
      "cell_type": "markdown",
      "metadata": {
        "id": "kDoQFi-eYMeE"
      },
      "source": [
        "Try printing out `X_train.shape` and `y_train.shape`. Can you explain the results?"
      ]
    },
    {
      "cell_type": "code",
      "execution_count": null,
      "metadata": {
        "id": "a9lDN-aYYJXc"
      },
      "outputs": [],
      "source": [
        "#YOUR CODE HERE"
      ]
    },
    {
      "cell_type": "code",
      "execution_count": null,
      "metadata": {
        "id": "-2yTgHKDYSL1",
        "cellView": "form"
      },
      "outputs": [],
      "source": [
        "#@title Solution\n",
        "print (X_train.shape)\n",
        "print (y_train.shape)"
      ]
    },
    {
      "cell_type": "markdown",
      "metadata": {
        "id": "fOCUsF5K9sA7"
      },
      "source": [
        "Now, let's look at a single image! Below, the outputs help us understand: **what kind of data is `single_image`? What are its dimensions? What is its label?**"
      ]
    },
    {
      "cell_type": "code",
      "execution_count": null,
      "metadata": {
        "id": "rJEKBKd69uhT"
      },
      "outputs": [],
      "source": [
        "image = X_train[0]\n",
        "image_label = y_train[0]\n",
        "\n",
        "print('Our image is stored as %s in Python'%type(image))\n",
        "print('Our image has dimensions of (%d, %d, %d)'%image.shape)\n",
        "print('Our image has label %d'%image_label)"
      ]
    },
    {
      "cell_type": "code",
      "execution_count": null,
      "metadata": {
        "id": "lHY2jaKo_HlU"
      },
      "outputs": [],
      "source": [
        "#@title What does image shape represent? { display-mode: \"form\" }\n",
        "\n",
        "#@markdown What does the bold number (**64**, 64, 3) represent?\n",
        "Dimension_0  = \"image height\" #@param [\"Your answer\", \"image width\", \"image height\",\"number of colors\"]\n",
        "\n",
        "#@markdown What does the bold number (64, **64**, 3) represent?\n",
        "Dimension_1  = \"image width\" #@param [\"Your answer\", \"image width\", \"image height\",\"number of colors\"]\n",
        "\n",
        "#@markdown What does the bold number (64, 64, **3**) represent?\n",
        "Dimension_2  = \"number of colors\" #@param [\"Your answer\", \"image width\", \"image height\",\"number of colors\"]\n",
        "\n",
        "if Dimension_0 == 'image height':\n",
        "  print(\"Yes! Dimension_0 is the height of the image.\")\n",
        "else:\n",
        "  print(\"Try again for Dimension_0!\")\n",
        "\n",
        "if Dimension_1 == 'image width':\n",
        "  print(\"Yes! Dimension_1 is the width of the image.\")\n",
        "else:\n",
        "  print(\"Try again for Dimension_1!\")\n",
        "\n",
        "if Dimension_2 == 'number of colors':\n",
        "  print(\"Yes! Dimension_2 stands for 3 colors - (r,g,b).\")\n",
        "else:\n",
        "  print(\"Try again for Dimension_2!\")\n"
      ]
    },
    {
      "cell_type": "markdown",
      "metadata": {
        "id": "at6q_Li7zJXi"
      },
      "source": [
        "**Visualize single image with plot_images**"
      ]
    },
    {
      "cell_type": "markdown",
      "metadata": {
        "id": "_WxXax6-FkMj"
      },
      "source": [
        "Remember our `plot_one_image` function from last week? We'll use that with our data to view our images! Let's see a single image.\n",
        "\n",
        "`plot_images` can take in either one image or many images. To use it with one image that is 3D, call:\n",
        "\n",
        "```\n",
        "plot_images(image)\n",
        "```\n",
        "\n",
        "To use it with many images, call:\n",
        "\n",
        "\n",
        "```\n",
        "plot_images(data, labels, index)\n",
        "```\n",
        "\n",
        "where:\n",
        "* `data`: all of our images in one array\n",
        "* `labels`: the labels corresponding to the images\n",
        "* `index`: which image we want to see\n"
      ]
    },
    {
      "cell_type": "code",
      "execution_count": null,
      "metadata": {
        "id": "HJibNL7CzXrl"
      },
      "outputs": [],
      "source": [
        "# plot a SINGLE image\n",
        "### YOUR CODE HERE\n",
        "\n",
        "\n",
        "### END CODE"
      ]
    },
    {
      "cell_type": "code",
      "execution_count": null,
      "metadata": {
        "id": "_tH-W_XCFwbC"
      },
      "outputs": [],
      "source": [
        "#@title Instructor Solution { display-mode: \"form\" }\n",
        "\n",
        "### YOUR CODE HERE\n",
        "plot_images(image)\n",
        "plot_images(X_train, y_train, 1)\n",
        "### END CODE"
      ]
    },
    {
      "cell_type": "markdown",
      "metadata": {
        "id": "2S89r_u1K00h"
      },
      "source": [
        "###Exercise (Coding)"
      ]
    },
    {
      "cell_type": "markdown",
      "metadata": {
        "id": "uGKMrtjewuyr"
      },
      "source": [
        "Let's visualize a few more images from our data!"
      ]
    },
    {
      "cell_type": "code",
      "execution_count": null,
      "metadata": {
        "id": "WKCjmUmYzt2P"
      },
      "outputs": [],
      "source": [
        "# use a for loop to visualize more images\n",
        "\n",
        "### YOUR CODE HERE\n",
        "\n",
        "### END CODE"
      ]
    },
    {
      "cell_type": "code",
      "execution_count": null,
      "metadata": {
        "id": "2YcC0X2zZNLp",
        "cellView": "form"
      },
      "outputs": [],
      "source": [
        "#@title Solutions\n",
        "for i in range(5):\n",
        "  plot_images(X_train, y_train, i)"
      ]
    },
    {
      "cell_type": "markdown",
      "metadata": {
        "id": "hy1a01gUZj_F"
      },
      "source": [
        "**Discuss:** How can **you** spot differences between **pneumonia** and **healthy** images?"
      ]
    },
    {
      "cell_type": "markdown",
      "metadata": {
        "id": "_FiJXF1z2OVf"
      },
      "source": [
        "**Optional:** We might want to look at several **pneumonia** and **healthy** images **separately**. Modify your for loop to visualize **just pneumonia** and then **just healthy** images."
      ]
    },
    {
      "cell_type": "code",
      "execution_count": null,
      "metadata": {
        "id": "GeXzhBYa2bDB"
      },
      "outputs": [],
      "source": [
        "# use a loop to visualize just PNEUMONIA images\n",
        "\n",
        "### YOUR CODE HERE\n",
        "\n",
        "### END CODE"
      ]
    },
    {
      "cell_type": "code",
      "execution_count": null,
      "metadata": {
        "id": "1JhplUKF2bSw"
      },
      "outputs": [],
      "source": [
        "#@title Solution\n",
        "#Here are a couple of possible approaches:\n",
        "\n",
        "#### METHOD 1:\n",
        "count = 0\n",
        "i = 0\n",
        "while count < 20 and i < 2000:\n",
        "  if y_train[i] == 1:\n",
        "    plot_images(X_train, y_train, i)\n",
        "    count += 1\n",
        "  i += 1\n",
        "#\n",
        "#### METHOD 2:\n",
        "normal_indices = np.where(y_train == 0)[0]\n",
        "for i in range(10):\n",
        "  plot_images(X_train, y_train, normal_indices[i])"
      ]
    },
    {
      "cell_type": "markdown",
      "metadata": {
        "id": "GduUSm7K4gug"
      },
      "source": [
        "## **(Optional)** Activity 2c. Fun with manipulating images\n",
        "\n",
        "In this section, we'll practice some techniques for working with image data.\n"
      ]
    },
    {
      "cell_type": "code",
      "execution_count": null,
      "metadata": {
        "id": "BmZRVyRWi1x1",
        "cellView": "form"
      },
      "outputs": [],
      "source": [
        "#@title Instructor Notes\n",
        "'''\n",
        "Activity 2c is good for extra coding if there's time and students want reps.\n",
        "However, it's not project or ML-related, so feel free to skip.\n",
        "'''"
      ]
    },
    {
      "cell_type": "markdown",
      "metadata": {
        "id": "LITQ5Jcz9gIf"
      },
      "source": [
        "### Exercise (Coding)"
      ]
    },
    {
      "cell_type": "markdown",
      "metadata": {
        "id": "BF84gjox8eyn"
      },
      "source": [
        "\n",
        "\n",
        "Like we saw, an image is a 3D array with (y_location, x_location, rgb). Another way of saying this is that an image is a STACK of color matrices. Let's make this more tangible by creating a fake \"mini\" image!\n",
        "\n",
        "**Notice that we're using a scale of 0 to 1 instead of 0 to 255.**"
      ]
    },
    {
      "cell_type": "code",
      "execution_count": null,
      "metadata": {
        "id": "wX2RqMadmdqm"
      },
      "outputs": [],
      "source": [
        "import numpy as np\n",
        "\n",
        "tiny_image = np.array([[[1, 0, 0],\n",
        "                       [.5, .5, 0]],\n",
        "                      [[0, 1, 1],\n",
        "                       [.1, .2, 1]]])\n",
        "print (tiny_image)\n",
        "print (\"Dimensions: \", tiny_image.shape)"
      ]
    },
    {
      "cell_type": "markdown",
      "metadata": {
        "id": "N-1hz1PHcN-l"
      },
      "source": [
        "**How many pixels are in our image? What does each number mean?**\n",
        "\n",
        "Let's plot our tiny image! Do the colors match what you expected?\n",
        "\n"
      ]
    },
    {
      "cell_type": "code",
      "execution_count": null,
      "metadata": {
        "id": "N-BE7lFEdMw1"
      },
      "outputs": [],
      "source": [
        "plot_images(tiny_image)"
      ]
    },
    {
      "cell_type": "markdown",
      "metadata": {
        "id": "Jxe8Yhdgdg--"
      },
      "source": [
        "**Experiment with changing the numbers to change your tiny image!**\n",
        "\n",
        "What happens if we \"slice\" like this?"
      ]
    },
    {
      "cell_type": "code",
      "execution_count": null,
      "metadata": {
        "id": "WogayJu-mnSn"
      },
      "outputs": [],
      "source": [
        "tiny_image[:,:,2]"
      ]
    },
    {
      "cell_type": "markdown",
      "metadata": {
        "id": "q3oK94he9Gyu"
      },
      "source": [
        "Let's try changing one of the color dimensions:"
      ]
    },
    {
      "cell_type": "code",
      "execution_count": null,
      "metadata": {
        "id": "nbtYQ1Sy9L2m"
      },
      "outputs": [],
      "source": [
        "new_image = tiny_image.copy() #make a copy so we don't change the original\n",
        "new_image[:,:,2] = 0"
      ]
    },
    {
      "cell_type": "markdown",
      "metadata": {
        "id": "rMTgfDO29VNv"
      },
      "source": [
        "What did this do? Visualize it!!\n"
      ]
    },
    {
      "cell_type": "code",
      "execution_count": null,
      "metadata": {
        "id": "aBWu6A299XNH"
      },
      "outputs": [],
      "source": [
        "### YOUR CODE HERE\n",
        "\n",
        "### END CODE"
      ]
    },
    {
      "cell_type": "code",
      "execution_count": null,
      "metadata": {
        "id": "SGTI2S05AmRw"
      },
      "outputs": [],
      "source": [
        "#@title Instructor Solution { display-mode: \"form\" }\n",
        "### YOUR CODE HERE\n",
        "plot_images(new_image)\n",
        "### END CODE"
      ]
    },
    {
      "cell_type": "markdown",
      "metadata": {
        "id": "f4DfKYy09ZTY"
      },
      "source": [
        "Now, try to create a blue version of your image. This is know as **tinting.**\n",
        "\n",
        "(Hint: Zero out the non-blue channels of the image.)"
      ]
    },
    {
      "cell_type": "code",
      "execution_count": null,
      "metadata": {
        "id": "xTOoJ5KK9e3A"
      },
      "outputs": [],
      "source": [
        "### YOUR CODE HERE\n",
        "\n",
        "### END CODE"
      ]
    },
    {
      "cell_type": "code",
      "execution_count": null,
      "metadata": {
        "id": "GT5xepEQegNz",
        "cellView": "form"
      },
      "outputs": [],
      "source": [
        "#@title Instructor Solution\n",
        "new_image = tiny_image.copy() #make a copy so we don't change the original\n",
        "new_image[:,:,0] = 0\n",
        "new_image[:,:,1] = 0\n",
        "plot_images(new_image)"
      ]
    },
    {
      "cell_type": "markdown",
      "metadata": {
        "id": "8WOrufcp9_r1"
      },
      "source": [
        "### Exercise (Coding)"
      ]
    },
    {
      "cell_type": "markdown",
      "metadata": {
        "id": "2r2w2uWk-DW8"
      },
      "source": [
        "You've probably used an image crop before, where you segment part of an image out, like below. We will work on coloring a rectangle on your image.\n",
        "\n",
        "![](https://ppom.nmediahosting.com/wp-content/uploads/2013/06/cropping.jpg)"
      ]
    },
    {
      "cell_type": "markdown",
      "metadata": {
        "id": "XsqGHGpD-Yg3"
      },
      "source": [
        "The first step to doing this is identifying a rectangle in the image. Let's try to color a rectangle in our `rect_image`."
      ]
    },
    {
      "cell_type": "code",
      "execution_count": null,
      "metadata": {
        "id": "2PE9jpOS-knw"
      },
      "outputs": [],
      "source": [
        "rect_image = image.copy()\n",
        "plot_images(rect_image)"
      ]
    },
    {
      "cell_type": "markdown",
      "metadata": {
        "id": "VR78C9xo-ozZ"
      },
      "source": [
        "You can access a pixel at the location (5, 5) in the image like this:\n"
      ]
    },
    {
      "cell_type": "code",
      "execution_count": null,
      "metadata": {
        "id": "9LTpWmYY-1G6"
      },
      "outputs": [],
      "source": [
        "rect_image[5,5]"
      ]
    },
    {
      "cell_type": "markdown",
      "metadata": {
        "id": "s8ISzUfp-2NC"
      },
      "source": [
        "How would you print the amount of **red** at this pixel?"
      ]
    },
    {
      "cell_type": "code",
      "execution_count": null,
      "metadata": {
        "id": "0Tg7_VOL-5Xb"
      },
      "outputs": [],
      "source": [
        "#YOUR CODE HERE"
      ]
    },
    {
      "cell_type": "code",
      "execution_count": null,
      "metadata": {
        "id": "Y-2joOslfrIO"
      },
      "outputs": [],
      "source": [
        "#@title Solution\n",
        "image[5,5,0]"
      ]
    },
    {
      "cell_type": "markdown",
      "metadata": {
        "id": "Z6oCxVeC-62S"
      },
      "source": [
        "You can change the color the same way! For example:\n",
        "\n",
        "```\n",
        "rect_image[5,5,0] = 0.5\n",
        "```"
      ]
    },
    {
      "cell_type": "markdown",
      "metadata": {
        "id": "Jo5ACgAzf51_"
      },
      "source": [
        "Try making a **single** pixel in our image bright red."
      ]
    },
    {
      "cell_type": "code",
      "execution_count": null,
      "metadata": {
        "id": "j_1y-p0ef5MU"
      },
      "outputs": [],
      "source": [
        "#YOUR CODE HERE"
      ]
    },
    {
      "cell_type": "code",
      "execution_count": null,
      "metadata": {
        "id": "LPo1c-plgAaC",
        "cellView": "form"
      },
      "outputs": [],
      "source": [
        "#@title Solution\n",
        "rect_image[5,5,0] = 1\n",
        "rect_image[5,5,1] = 0\n",
        "rect_image[5,5,2] = 0\n",
        "plot_images(rect_image)"
      ]
    },
    {
      "cell_type": "markdown",
      "metadata": {
        "id": "furz533d_L1d"
      },
      "source": [
        "**Challenge:** With this in mind, can you write a for loop to draw a red rectangle on our image?"
      ]
    },
    {
      "cell_type": "code",
      "execution_count": null,
      "metadata": {
        "id": "w-yy27vV_Qrd"
      },
      "outputs": [],
      "source": [
        "### YOUR CODE HERE\n",
        "\n",
        "### END CODE"
      ]
    },
    {
      "cell_type": "code",
      "execution_count": null,
      "metadata": {
        "id": "AvPL__Vb_ThG"
      },
      "outputs": [],
      "source": [
        "#@title Instructor Solution { display-mode: \"form\" }\n",
        "\n",
        "# may look something like...\n",
        "start_x = 5\n",
        "x_location = 20\n",
        "start_y = 1\n",
        "y_location = 30\n",
        "new_color = [0.75, 0.2, 0.2]\n",
        "\n",
        "rect_image = np.copy(image)\n",
        "for j in range(start_x, x_location):\n",
        "  for i in range(start_y, y_location):\n",
        "      rect_image[i,j] = new_color\n",
        "\n",
        "plot_images(rect_image)"
      ]
    },
    {
      "cell_type": "markdown",
      "metadata": {
        "id": "lmaAKTgF6lJI"
      },
      "source": [
        "\n",
        "# Milestone 3. Applying Machine Learning to Pneumonia Prediction\n",
        "\n",
        "Now that we have experience working with image data, let's start planning our machine learning approach!"
      ]
    },
    {
      "cell_type": "markdown",
      "metadata": {
        "id": "JA2tfXWP6lq5"
      },
      "source": [
        "\n",
        "## Activity 3a. Defining our machine learning problem"
      ]
    },
    {
      "cell_type": "markdown",
      "metadata": {
        "id": "TgcE5wc7-MYM"
      },
      "source": [
        "Before we build our model, we have to identify what kind of problem it will solve and what data it's going to use."
      ]
    },
    {
      "cell_type": "markdown",
      "metadata": {
        "id": "ke6JF4cQ88dA"
      },
      "source": [
        "### Exercise (Discussion)"
      ]
    },
    {
      "cell_type": "markdown",
      "metadata": {
        "id": "z457gSlfVurn"
      },
      "source": [
        "What WILL our model look like? Remember, in machine learning, we always identify **inputs** and **outputs**. Our goal is to predict **outputs** from **inputs** with either **classification** or **regression**.\n",
        "\n",
        "In **classification**, our output is a category (like dogs or cats).\n",
        "\n",
        "In **regression**, our output is a value (like 0, 0.1, 0.3, 100, ...)."
      ]
    },
    {
      "cell_type": "code",
      "execution_count": null,
      "metadata": {
        "id": "Tx5vAivA9bLK"
      },
      "outputs": [],
      "source": [
        "#@title How will our model operate? { display-mode: \"form\" }\n",
        "\n",
        "#@markdown What are our inputs?\n",
        "inputs = \"images\" #@param [\"Your answer\",\"pneumonia vs. healthy\", \"images\", \"image edges\", \"probability of pneumonia vs. healthy\"]\n",
        "\n",
        "#@markdown What are our outputs?\n",
        "outputs = \"pneumonia vs. healthy\" #@param [\"Your answer\",\"pneumonia vs. healthy\", \"images\", \"image edges\", \"probability of pneumonia vs. healthy\"]\n",
        "\n",
        "#@markdown What kind of problem will our AI model solve?\n",
        "problem_type  = \"classification\" #@param [\"Your answer\", \"classification\", \"regression\"]\n",
        "\n",
        "\n",
        "if inputs == \"images\":\n",
        "  print(\"Yes, our inputs are our images!\")\n",
        "else:\n",
        "  print('Not quite our inputs.')\n",
        "\n",
        "if outputs == \"pneumonia vs. healthy\":\n",
        "  print(\"Yes, our outputs are pneumonia vs. healthy!\")\n",
        "else:\n",
        "  print('Not quite our outputs.')\n",
        "\n",
        "if problem_type == \"classification\":\n",
        "  print(\"We are trying to predict labels, therefore this is classification!\")\n",
        "else:\n",
        "  print('Not quite our problem!')"
      ]
    },
    {
      "cell_type": "markdown",
      "metadata": {
        "id": "KLGqxv3UwYnh"
      },
      "source": [
        "## Activity 3b. Building and evaluating models"
      ]
    },
    {
      "cell_type": "markdown",
      "metadata": {
        "id": "TVpNck1f6mMZ"
      },
      "source": [
        "### Exercise (Coding)\n"
      ]
    },
    {
      "cell_type": "markdown",
      "metadata": {
        "id": "93WOHcjxsWHT"
      },
      "source": [
        "Today, we'll use some of the Scikit-learn approaches you've seen before. You'll build classifiers on your dataset and see how well you do!\n",
        "\n",
        "`Sklearn` takes in 'flat' data: that is, data that looks like a table, and is just samples x features. We'll need to **flatten** our 64 x 64 x 3 images, like this:"
      ]
    },
    {
      "cell_type": "code",
      "execution_count": null,
      "metadata": {
        "id": "cNwnj9LLruMI"
      },
      "outputs": [],
      "source": [
        "X_train, y_train = get_train_data(flatten = True)"
      ]
    },
    {
      "cell_type": "markdown",
      "metadata": {
        "id": "YqB4aISKhjAj"
      },
      "source": [
        "Can you print out and explain the **shape** of  `X_train` and `y_train`?"
      ]
    },
    {
      "cell_type": "code",
      "execution_count": null,
      "metadata": {
        "id": "zS-CHr8bhipC"
      },
      "outputs": [],
      "source": [
        "#YOUR CODE HERE"
      ]
    },
    {
      "cell_type": "code",
      "execution_count": null,
      "metadata": {
        "id": "KP7_gc81ho-l",
        "cellView": "form"
      },
      "outputs": [],
      "source": [
        "#@title Instructor Solution\n",
        "print (X_train.shape)\n",
        "print (y_train.shape)"
      ]
    },
    {
      "cell_type": "markdown",
      "metadata": {
        "id": "FiKw6DHXiAgg"
      },
      "source": [
        "Please get `X_test` and `y_test` ready the same way, using `get_test_data`:"
      ]
    },
    {
      "cell_type": "code",
      "execution_count": null,
      "metadata": {
        "id": "vUdl-20dh_bP"
      },
      "outputs": [],
      "source": [
        "#YOUR CODE HERE"
      ]
    },
    {
      "cell_type": "code",
      "execution_count": null,
      "metadata": {
        "id": "mWWOtNCxiE9Q",
        "cellView": "form"
      },
      "outputs": [],
      "source": [
        "#@title Instructor Solutions\n",
        "X_test, y_test = get_test_data(flatten = True)"
      ]
    },
    {
      "cell_type": "markdown",
      "metadata": {
        "id": "CEKcyS1625HM"
      },
      "source": [
        "###Creating Baseline Models\n",
        "\n",
        "We've tried a few models in sklearn since last week. Below, we list them with some sample parameters:\n",
        "* `knn = KNeighborsClassifier(n_neighbors = 5)`\n",
        "* `log = LogisticRegression(max_iter = 1000)`\n",
        "* `dt = DecisionTreeClassifier(max_depth = 2)`\n",
        "* others you can find [here](https://scikit-learn.org/stable/auto_examples/classification/plot_classifier_comparison.html) (try MLPClassifier!)\n",
        "\n",
        "Please **try out a few models**, following each step of the machine learning pipeline:\n",
        "- Set up a model\n",
        "- Train (fit) your model\n",
        "- Predict\n",
        "- Score using `accuracy_score`\n",
        "\n",
        "*Hint:* Check out the Conscientious Cars notebook for examples!\n"
      ]
    },
    {
      "cell_type": "markdown",
      "metadata": {
        "id": "KYHcut3JE-Hn"
      },
      "source": [
        "**Try to build the best model that you can!**\n",
        "\n",
        "Vary the parameters of your code."
      ]
    },
    {
      "cell_type": "code",
      "execution_count": null,
      "metadata": {
        "id": "VAkpFExw4R1k"
      },
      "outputs": [],
      "source": [
        "#Set up, train, predict, and score!\n",
        "### USE AS MANY CELLS AS YOU WANT!"
      ]
    },
    {
      "cell_type": "code",
      "execution_count": null,
      "metadata": {
        "id": "8ARaONGP4txm"
      },
      "outputs": [],
      "source": [
        "#@title Instructor Solution { display-mode: \"form\" }\n",
        "# student code may look something like...\n",
        "\n",
        "knn  = KNeighborsClassifier(n_neighbors=5)\n",
        "log  = LogisticRegression(max_iter = 1000)\n",
        "dt   = DecisionTreeClassifier(max_depth = 2)\n",
        "\n",
        "knn.fit(X_train, y_train)\n",
        "log.fit(X_train, y_train)\n",
        "dt.fit(X_train, y_train)\n",
        "\n",
        "# they might use accuracy_score\n",
        "y_pred = knn.predict(X_test)\n",
        "score = accuracy_score(y_test, y_pred)\n",
        "print(score)\n",
        "\n",
        "# they might wrap accuracy_score in their own definition\n",
        "def score_model(model, X_test, y_test):\n",
        "  y_pred = model.predict(X_test)\n",
        "  score = accuracy_score(y_test, y_pred)\n",
        "  print(score)\n",
        "\n",
        "# or they might use the model's scoring function\n",
        "print(knn.score(X_test, y_test))\n",
        "\n",
        "# students should see if they can get up to 75% accuracy!\n",
        "# and should tabulate across parameters\n",
        "\n",
        "print('KNN score: %0.2f'%knn.score(X_test, y_test))\n",
        "print('Log score: %0.2f'%log.score(X_test, y_test))\n",
        "print('DT score: %0.2f'%dt.score(X_test, y_test))\n",
        "\n",
        "# I suggest ...\n",
        "# * knn with neighbors of 5, 10, 100, 1000\n",
        "# * Decision tree with max_depth of 2, 5, 10"
      ]
    },
    {
      "cell_type": "markdown",
      "metadata": {
        "id": "grR2n3RRjVCt"
      },
      "source": [
        "**Discuss:** Are these results good enough for medical use? How could we improve them?"
      ]
    },
    {
      "cell_type": "markdown",
      "metadata": {
        "id": "vGqKDb2wte_g"
      },
      "source": [
        "# Congratulations on completing your baseline model!\n"
      ]
    },
    {
      "cell_type": "markdown",
      "metadata": {
        "id": "lmJ_ycYE4Zpj"
      },
      "source": [
        "![](https://storage.googleapis.com/kaggle-competitions/kaggle/10338/logos/header.png)"
      ]
    }
  ],
  "metadata": {
    "colab": {
      "provenance": [],
      "include_colab_link": true
    },
    "kernelspec": {
      "display_name": "Python 3",
      "name": "python3"
    }
  },
  "nbformat": 4,
  "nbformat_minor": 0
}