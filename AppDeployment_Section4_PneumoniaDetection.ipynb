{
  "cells": [
    {
      "cell_type": "markdown",
      "metadata": {
        "id": "view-in-github",
        "colab_type": "text"
      },
      "source": [
        "<a href=\"https://colab.research.google.com/github/htn5400/Pneumonia-Detection/blob/main/AppDeployment_Section4_PneumoniaDetection.ipynb\" target=\"_parent\"><img src=\"https://colab.research.google.com/assets/colab-badge.svg\" alt=\"Open In Colab\"/></a>"
      ]
    },
    {
      "cell_type": "markdown",
      "source": [
        "# Deploying our Pneumonia Detection App"
      ],
      "metadata": {
        "id": "_miIJNrJE3X4"
      }
    },
    {
      "cell_type": "markdown",
      "source": [
        "![](https://journals.plos.org/plosone/article/figure/image?size=medium&id=10.1371/journal.pone.0256630.g014)"
      ],
      "metadata": {
        "id": "msrdSfotHqbl"
      }
    },
    {
      "cell_type": "markdown",
      "source": [
        "Now that we have our model trained and set up, we can deploy it as a full scale application to the web! While your site is running, you'll be able to use it on your laptop or computer or share it with friends! We'll be using [Streamlit](https://www.streamlit.io/), a library of website objects and methods that allows us to quickly build a site."
      ],
      "metadata": {
        "id": "FYrI1YrYFHde"
      }
    },
    {
      "cell_type": "markdown",
      "source": [
        "# Part 1. Streamlit - Deploying your model to the web\n",
        "\n",
        "The goal of this session is to learn how to deploy the models that we have been training to the web so they can be shared with the world!\n",
        "\n",
        "Take a moment to look through examples of websites built with Streamlit [here](https://streamlit.io/gallery?category=favorites). As a class, choose your favorite and answer the following **questions:**\n",
        "* Who is this application for?\n",
        "* How does the user input data - are these intuitive ways of interacting with the app?\n",
        "* What does the application do with the data?\n",
        "* Evaluate the ease of use and look of the application.\n",
        "\n",
        "\n",
        "Now that we've seen what is possible with Streamlit, let's try to deploy our **pneumonia detection model** to the web!"
      ],
      "metadata": {
        "id": "6cjHGzmBl_Vh"
      }
    },
    {
      "cell_type": "code",
      "execution_count": null,
      "metadata": {
        "id": "0Od_JMBPjfPv",
        "cellView": "form"
      },
      "outputs": [],
      "source": [
        "#@title Run this to download data and prepare our environment!\n",
        "# %tensorflow_version 1.x\n",
        "\n",
        "!pip -q install streamlit > /dev/null\n",
        "!pip -q install pyngrok > /dev/null\n",
        "!pip install scikeras > /dev/null\n",
        "\n",
        "import scikeras\n",
        "import tensorflow as tf\n",
        "import pandas as pd\n",
        "import zipfile\n",
        "import gdown\n",
        "import cv2\n",
        "import plotly.express as px\n",
        "import numpy as np\n",
        "from pyngrok import ngrok\n",
        "import seaborn as sns\n",
        "import matplotlib.pyplot as plt\n",
        "from keras.models import Sequential\n",
        "from keras.layers import Activation, MaxPooling2D, Dropout, Flatten, Reshape, Dense, Conv2D, GlobalAveragePooling2D\n",
        "from keras.regularizers import l2\n",
        "from scikeras.wrappers import KerasClassifier\n",
        "import tensorflow.keras.optimizers as optimizers\n",
        "from keras.callbacks import ModelCheckpoint\n",
        "import random\n",
        "import time\n",
        "import os\n",
        "from keras.callbacks import ModelCheckpoint\n",
        "\n",
        "from imgaug import augmenters\n",
        "def augment(data, augmenter):\n",
        "  if len(data.shape) == 3:\n",
        "    return augmenter.augment_image(data)\n",
        "  if len(data.shape) == 4:\n",
        "    return augmenter.augment_images(data)\n",
        "\n",
        "def rotate(data, rotate):\n",
        "  fun = augmenters.Affine(rotate = rotate)\n",
        "  return augment(data, fun)\n",
        "\n",
        "def shear(data, shear):\n",
        "  fun = augmenters.Affine(shear = shear)\n",
        "  return augment(data, fun)\n",
        "\n",
        "def scale(data, scale):\n",
        "  fun = augmenters.Affine(scale = scale)\n",
        "  return augment(data, fun)\n",
        "\n",
        "def flip_left_right(data, prob):\n",
        "  fun = augmenters.Fliplr(p = prob)\n",
        "  return augment(data, fun)\n",
        "\n",
        "def flip_up_down(data, prob):\n",
        "  fun = augmenters.Flipud(p = prob)\n",
        "  return augment(data, fun)\n",
        "\n",
        "def remove_color(data, channel):\n",
        "  new_data = data.copy()\n",
        "  if len(data.shape) == 3:\n",
        "    new_data[:,:,channel] = 0\n",
        "    return new_data\n",
        "  if len(data.shape) == 4:\n",
        "    new_data[:,:,:,channel] = 0\n",
        "    return new_data\n",
        "\n",
        "class pkg:\n",
        "  #### DOWNLOADING AND LOADING DATA\n",
        "  def get_metadata(metadata_path, which_splits = ['train', 'test']):\n",
        "    '''returns metadata dataframe which contains columns of:\n",
        "       * index: index of data into numpy data\n",
        "       * class: class of image\n",
        "       * split: which dataset split is this a part of?\n",
        "    '''\n",
        "    metadata = pd.read_csv(metadata_path)\n",
        "    keep_idx = metadata['split'].isin(which_splits)\n",
        "    return metadata[keep_idx]\n",
        "\n",
        "  def get_data_split(split_name, flatten, all_data, metadata, image_shape):\n",
        "    '''\n",
        "    returns images (data), labels from folder of format [image_folder]/[split_name]/[class_name]/\n",
        "    flattens if flatten option is True\n",
        "    '''\n",
        "    sub_df = metadata[metadata['split'].isin([split_name])]\n",
        "    index  = sub_df['index'].values\n",
        "    labels = sub_df['class'].values\n",
        "    data = all_data[index,:]\n",
        "    if flatten:\n",
        "      data = data.reshape([-1, np.product(image_shape)])\n",
        "    return data, labels\n",
        "\n",
        "  def get_train_data(flatten, all_data, metadata, image_shape):\n",
        "    return get_data_split('train', flatten, all_data, metadata, image_shape)\n",
        "\n",
        "  def get_test_data(flatten, all_data, metadata, image_shape):\n",
        "    return get_data_split('test', flatten, all_data, metadata, image_shape)\n",
        "\n",
        "  def get_field_data(flatten, all_data, metadata, image_shape):\n",
        "    field_data, field_labels = get_data_split('field', flatten, all_data, metadata, image_shape)\n",
        "    field_data[:,:,:,2] = field_data[:,:,:,0]\n",
        "    field_data[:,:,:,1] = field_data[:,:,:,0]\n",
        "\n",
        "    #make data messier\n",
        "    rand = random.uniform(-1, 1)\n",
        "\n",
        "    for i in range(len(field_data)):\n",
        "      image = field_data[i]\n",
        "\n",
        "      if abs(rand) < 0.5:\n",
        "        image = rotate(image, rotate = rand * 40)\n",
        "      elif abs(rand) < 0.8:\n",
        "        image = shear(image, shear = rand*40)\n",
        "      field_data[i] = image\n",
        "    return field_data, field_labels\n",
        "\n",
        "class helpers:\n",
        "  #### PLOTTING\n",
        "  def plot_one_image(data, labels = [], index = None, image_shape = [64,64,3]):\n",
        "    '''\n",
        "    if data is a single image, display that image\n",
        "\n",
        "    if data is a 4d stack of images, display that image\n",
        "    '''\n",
        "    num_dims   = len(data.shape)\n",
        "    num_labels = len(labels)\n",
        "\n",
        "    # reshape data if necessary\n",
        "    if num_dims == 1:\n",
        "      data = data.reshape(target_shape)\n",
        "    if num_dims == 2:\n",
        "      data = data.reshape(np.vstack[-1, image_shape])\n",
        "    num_dims   = len(data.shape)\n",
        "\n",
        "    # check if single or multiple images\n",
        "    if num_dims == 3:\n",
        "      if num_labels > 1:\n",
        "        print('Multiple labels does not make sense for single image.')\n",
        "        return\n",
        "\n",
        "      label = labels\n",
        "      if num_labels == 0:\n",
        "        label = ''\n",
        "      image = data\n",
        "\n",
        "    if num_dims == 4:\n",
        "      image = data[index, :]\n",
        "      label = labels[index]\n",
        "\n",
        "    # plot image of interest\n",
        "    print('Label: %s'%label)\n",
        "    plt.imshow(image)\n",
        "    plt.show()\n",
        "\n",
        "  #### QUERYING AND COMBINING DATA\n",
        "  def combine_data(data_list, labels_list):\n",
        "    return np.concatenate(data_list, axis = 0), np.concatenate(labels_list, axis = 0)\n",
        "\n",
        "  def plot_acc(history, ax = None, xlabel = 'Epoch #'):\n",
        "    # i'm sorry for this function's code. i am so sorry.\n",
        "    history = history.history\n",
        "    history.update({'epoch':list(range(len(history['val_accuracy'])))})\n",
        "    history = pd.DataFrame.from_dict(history)\n",
        "\n",
        "    best_epoch = history.sort_values(by = 'val_accuracy', ascending = False).iloc[0]['epoch']\n",
        "\n",
        "    if not ax:\n",
        "      f, ax = plt.subplots(1,1)\n",
        "    sns.lineplot(x = 'epoch', y = 'val_accuracy', data = history, label = 'Validation', ax = ax)\n",
        "    sns.lineplot(x = 'epoch', y = 'accuracy', data = history, label = 'Training', ax = ax)\n",
        "    ax.axhline(0.5, linestyle = '--',color='red', label = 'Chance')\n",
        "    ax.axvline(x = best_epoch, linestyle = '--', color = 'green', label = 'Best Epoch')\n",
        "    ax.legend(loc = 4)\n",
        "    ax.set_ylim([0.4, 1])\n",
        "\n",
        "    ax.set_xlabel(xlabel)\n",
        "    ax.set_ylabel('Accuracy (Fraction)')\n",
        "\n",
        "    plt.show()\n",
        "\n",
        "class models:\n",
        "  def DenseClassifier(hidden_layer_sizes, nn_params):\n",
        "    model = Sequential()\n",
        "    model.add(Flatten(input_shape = nn_params['input_shape']))\n",
        "    model.add(Dropout(0.5))\n",
        "\n",
        "    for ilayer in hidden_layer_sizes:\n",
        "      model.add(Dense(ilayer, activation = 'relu'))\n",
        "      model.add(Dropout(0.5))\n",
        "\n",
        "    model.add(Dense(units = nn_params['output_neurons'], activation = nn_params['output_activation']))\n",
        "    model.compile(loss=nn_params['loss'],\n",
        "                  optimizer=keras.optimizers.SGD(learning_rate=1e-4, momentum=0.95),\n",
        "                  metrics=['accuracy'])\n",
        "    return model\n",
        "\n",
        "  def CNNClassifier(num_hidden_layers, nn_params):\n",
        "    model = Sequential()\n",
        "\n",
        "    model.add(Conv2D(32, (3, 3), input_shape=nn_params['input_shape'], padding = 'same', kernel_regularizer=l2(0.01), bias_regularizer=l2(0.01)))\n",
        "    model.add(Activation('relu'))\n",
        "    model.add(MaxPooling2D(pool_size=(2, 2)))\n",
        "\n",
        "    for i in range(num_hidden_layers-1):\n",
        "        model.add(Conv2D(64, (3, 3), padding = 'same', kernel_regularizer=l2(0.01), bias_regularizer=l2(0.01)))\n",
        "        model.add(Activation('relu'))\n",
        "        model.add(MaxPooling2D(pool_size=(2, 2)))\n",
        "\n",
        "    model.add(Flatten())\n",
        "\n",
        "    model.add(Dense(units = 128, activation = 'relu'))\n",
        "    model.add(Dropout(0.5))\n",
        "    model.add(Dense(units = 64, activation = 'relu', kernel_regularizer=l2(0.01), bias_regularizer=l2(0.01)))\n",
        "    model.add(Dropout(0.5))\n",
        "\n",
        "    model.add(Dense(units = nn_params['output_neurons'], activation = nn_params['output_activation']))\n",
        "\n",
        "    # initiate RMSprop optimizer\n",
        "    opt = keras.optimizers.legacy.RMSprop(learning_rate=1e-5, decay=1e-6)\n",
        "\n",
        "    # Let's train the model using RMSprop\n",
        "    model.compile(loss=nn_params['loss'],\n",
        "                  optimizer=opt,\n",
        "                  metrics=['accuracy'])\n",
        "    return model\n",
        "\n",
        "  def TransferClassifier(name, nn_params, trainable = False):\n",
        "    expert_dict = {'VGG16': VGG16,\n",
        "                   'VGG19': VGG19,\n",
        "                   'ResNet50':ResNet50,\n",
        "                   'DenseNet121':DenseNet121}\n",
        "\n",
        "    expert_conv = expert_dict[name](weights = 'imagenet',\n",
        "                                              include_top = False,\n",
        "                                              input_shape = nn_params['input_shape'])\n",
        "    for layer in expert_conv.layers:\n",
        "      layer.trainable = trainable\n",
        "\n",
        "    expert_model = Sequential()\n",
        "    expert_model.add(expert_conv)\n",
        "    expert_model.add(GlobalAveragePooling2D())\n",
        "\n",
        "    expert_model.add(Dense(128, activation = 'relu'))\n",
        "    # expert_model.add(Dropout(0.3))\n",
        "\n",
        "    expert_model.add(Dense(64, activation = 'relu'))\n",
        "    # expert_model.add(Dropout(0.3))\n",
        "\n",
        "    expert_model.add(Dense(nn_params['output_neurons'], activation = nn_params['output_activation']))\n",
        "\n",
        "    expert_model.compile(loss = nn_params['loss'],\n",
        "                  optimizer = keras.optimizers.SGD(learning_rate=1e-4, momentum=0.9),\n",
        "                  metrics=['accuracy'])\n",
        "\n",
        "    return expert_model\n",
        "\n",
        "### defining project variables\n",
        "# file variables\n",
        "metadata_url         = \"https://storage.googleapis.com/inspirit-ai-data-bucket-1/Data/AI%20Scholars/Sessions%206%20-%2010%20(Projects)/Project%20-%20(Healthcare%20A)%20Pneumonia/metadata.csv\"\n",
        "image_data_url       = 'https://storage.googleapis.com/inspirit-ai-data-bucket-1/Data/AI%20Scholars/Sessions%206%20-%2010%20(Projects)/Project%20-%20(Healthcare%20A)%20Pneumonia/image_data.npy'\n",
        "image_data_path      = './image_data.npy'\n",
        "metadata_path        = './metadata.csv'\n",
        "image_shape          = (64, 64, 3)\n",
        "\n",
        "# neural net parameters\n",
        "nn_params = {}\n",
        "nn_params['input_shape']       = image_shape\n",
        "nn_params['output_neurons']    = 1\n",
        "nn_params['loss']              = 'binary_crossentropy'\n",
        "nn_params['output_activation'] = 'sigmoid'\n",
        "\n",
        "###\n",
        "!wget -q --show-progress \"https://storage.googleapis.com/inspirit-ai-data-bucket-1/Data/AI%20Scholars/Sessions%206%20-%2010%20(Projects)/Project%20-%20(Healthcare%20A)%20Pneumonia/metadata.csv\"\n",
        "!wget -q --show-progress \"https://storage.googleapis.com/inspirit-ai-data-bucket-1/Data/AI%20Scholars/Sessions%206%20-%2010%20(Projects)/Project%20-%20(Healthcare%20A)%20Pneumonia/image_data.npy\"\n",
        "\n",
        "\n",
        "### pre-loading all data of interest\n",
        "_all_data = np.load('image_data.npy')\n",
        "_metadata = pkg.get_metadata(metadata_path, ['train','test','field'])\n",
        "\n",
        "### preparing definitions\n",
        "# downloading and loading data\n",
        "get_data_split = pkg.get_data_split\n",
        "get_metadata    = lambda :                 pkg.get_metadata(metadata_path, ['train','test'])\n",
        "get_train_data  = lambda flatten = False : pkg.get_train_data(flatten = flatten, all_data = _all_data, metadata = _metadata, image_shape = image_shape)\n",
        "get_test_data   = lambda flatten = False : pkg.get_test_data(flatten = flatten, all_data = _all_data, metadata = _metadata, image_shape = image_shape)\n",
        "get_field_data  = lambda flatten = False : pkg.get_field_data(flatten = flatten, all_data = _all_data, metadata = _metadata, image_shape = image_shape)\n",
        "\n",
        "# plotting\n",
        "plot_one_image = lambda data, labels = [], index = None: helpers.plot_one_image(data = data, labels = labels, index = index, image_shape = image_shape);\n",
        "plot_acc       = lambda history: helpers.plot_acc(history)\n",
        "\n",
        "# querying and combining data\n",
        "combine_data           = helpers.combine_data;\n",
        "\n",
        "# models with input parameters\n",
        "DenseClassifier     = lambda hidden_layer_sizes: models.DenseClassifier(hidden_layer_sizes = hidden_layer_sizes, nn_params = nn_params);\n",
        "CNNClassifier       = lambda num_hidden_layers: models.CNNClassifier(num_hidden_layers, nn_params = nn_params);\n",
        "TransferClassifier  = lambda name: models.TransferClassifier(name = name, nn_params = nn_params);\n",
        "\n",
        "monitor = ModelCheckpoint('./model.h5', monitor='val_accuracy', verbose=0, save_best_only=True, save_weights_only=False, mode='auto', save_freq='epoch')\n",
        "\n",
        "def launch_website():\n",
        "  print (\"Click this link to try your web app:\")\n",
        "  if (ngrok.get_tunnels() != None):\n",
        "    ngrok.kill()\n",
        "  public_url = ngrok.connect()\n",
        "  print (public_url)\n",
        "  !streamlit run --server.port 80 app.py >/dev/null"
      ]
    },
    {
      "cell_type": "markdown",
      "source": [
        "<font color=SlateGrey><h2><b>\n",
        "Use [these](https://drive.google.com/file/d/12zwuOuKh91VSHIHS-6S4ADF4HLC2wKJq/view?usp=sharing) instructions to create a ngrok account and get your authtoken!\n",
        "</b></h2></font>\n",
        "\n",
        "<font color=DarkGray><h3><b>\n",
        "Paste your authtoken below next to `!ngrok authtoken`!\n",
        "</b></h3></font>"
      ],
      "metadata": {
        "id": "TMAuRFOklx31"
      }
    },
    {
      "cell_type": "code",
      "source": [
        "!ngrok authtoken # YOUR AUTH TOKEN HERE"
      ],
      "metadata": {
        "colab": {
          "base_uri": "https://localhost:8080/"
        },
        "id": "NvmMKgftlz5j",
        "outputId": "fc2c3893-aee0-4a12-b9a0-0a24a54f66e4"
      },
      "execution_count": null,
      "outputs": [
        {
          "output_type": "stream",
          "name": "stdout",
          "text": [
            "Authtoken saved to configuration file: /root/.ngrok2/ngrok.yml\n"
          ]
        }
      ]
    },
    {
      "cell_type": "markdown",
      "source": [
        "## Step 1: Making a website with streamlit\n",
        "\n",
        "Streamlit interprets Python files as a website! This is great for several reasons\n",
        "* No need to know HTML, CSS, Javascript,... etc\n",
        "* Easy to use our trained models which are already in Python!\n",
        "\n",
        "We'll write everything to a file called app.py, which is used for Streamlit to launch the site.\n"
      ],
      "metadata": {
        "id": "GJLm_hnPmMM_"
      }
    },
    {
      "cell_type": "code",
      "source": [
        "%%writefile app.py\n",
        "import streamlit as st\n",
        "\n",
        "st.title(\"Pneumonia Detection\")\n",
        "st.header(\"Description of the app\")"
      ],
      "metadata": {
        "colab": {
          "base_uri": "https://localhost:8080/"
        },
        "id": "SZJP9IQOmvV8",
        "outputId": "8fee986d-7ecf-451f-d968-03d15e253f85"
      },
      "execution_count": null,
      "outputs": [
        {
          "output_type": "stream",
          "name": "stdout",
          "text": [
            "Overwriting app.py\n"
          ]
        }
      ]
    },
    {
      "cell_type": "code",
      "source": [
        "from pyngrok import ngrok\n",
        "#Publish Web App (Run this again whenever you make changes)\n",
        "launch_website()"
      ],
      "metadata": {
        "colab": {
          "base_uri": "https://localhost:8080/"
        },
        "id": "Z21OHfkXl82E",
        "outputId": "be00ca5e-299c-48ea-a321-3c77fc76269e"
      },
      "execution_count": null,
      "outputs": [
        {
          "output_type": "stream",
          "name": "stderr",
          "text": [
            "WARNING:pyngrok.process.ngrok:t=2023-07-14T15:03:59+0000 lvl=warn msg=\"ngrok config file found at legacy location, move to XDG location\" xdg_path=/root/.config/ngrok/ngrok.yml legacy_path=/root/.ngrok2/ngrok.yml\n"
          ]
        },
        {
          "output_type": "stream",
          "name": "stdout",
          "text": [
            "NgrokTunnel: \"https://24cd-35-229-156-49.ngrok-free.app\" -> \"http://localhost:80\"\n",
            "\n",
            "Collecting usage statistics. To deactivate, set browser.gatherUsageStats to False.\n",
            "\u001b[0m\n",
            "\u001b[0m\n",
            "\u001b[34m\u001b[1m  You can now view your Streamlit app in your browser.\u001b[0m\n",
            "\u001b[0m\n",
            "\u001b[34m  Network URL: \u001b[0m\u001b[1mhttp://172.28.0.12:80\u001b[0m\n",
            "\u001b[34m  External URL: \u001b[0m\u001b[1mhttp://35.229.156.49:80\u001b[0m\n",
            "\u001b[0m\n",
            "\u001b[34m  Stopping...\u001b[0m\n",
            "^C\n"
          ]
        }
      ]
    },
    {
      "cell_type": "markdown",
      "source": [
        "## Step 2: Loading the model\n",
        "\n",
        "Since the focus of this session is deployment we'll skip over training the model and just load one that we've already trained :)\n",
        "\n",
        "Here is a reference on how to save and load sklearn and tensorflow models!\n",
        "\n",
        "For sklearn:\n",
        "```\n",
        "from joblib import dump, load\n",
        "\n",
        "# ====== Save model ========\n",
        "dump(model, 'filename.joblib')\n",
        "\n",
        "# ====== Load model ========\n",
        "clf = load('filename.joblib')\n",
        "```\n",
        "\n",
        "For tensorflow:\n",
        "```\n",
        "import tensorflow as tf\n",
        "\n",
        "# ====== Save model ========\n",
        "model.save(\"filename.h5\")\n",
        "\n",
        "# ====== Load model ========\n",
        "tf.keras.models.load_model(\"filename.h5\")\n",
        "```\n",
        "\n",
        "Our model today is going to be a tensorflow model! Let's load in the model we created last time:\n",
        "\n",
        "\n"
      ],
      "metadata": {
        "id": "21apfMGTnquH"
      }
    },
    {
      "cell_type": "code",
      "source": [
        "from google.colab import drive\n",
        "drive.mount('/content/gdrive')\n",
        "\n",
        "cnn_path = F\"/content/gdrive/My Drive/cnn.zip\"\n",
        "\n",
        "with zipfile.ZipFile(cnn_path, 'r') as zip_ref:\n",
        "    zip_ref.extractall('')"
      ],
      "metadata": {
        "colab": {
          "base_uri": "https://localhost:8080/"
        },
        "id": "1bZNwh4tmvn5",
        "outputId": "91996e25-6d93-41eb-cdb0-4478f892e4e2"
      },
      "execution_count": null,
      "outputs": [
        {
          "output_type": "stream",
          "name": "stdout",
          "text": [
            "Mounted at /content/gdrive\n"
          ]
        }
      ]
    },
    {
      "cell_type": "markdown",
      "source": [
        "We can set it to model and double check its shape."
      ],
      "metadata": {
        "id": "o9j7yvdXNzOT"
      }
    },
    {
      "cell_type": "code",
      "source": [
        "# Load your model\n",
        "model = # YOUR CODE HERE"
      ],
      "metadata": {
        "id": "xxSscLB7v02u"
      },
      "execution_count": null,
      "outputs": []
    },
    {
      "cell_type": "code",
      "source": [
        "#@title Instructor Solution\n",
        "tf.keras.models.load_model('cnn')"
      ],
      "metadata": {
        "cellView": "form",
        "id": "VHGIT5heXScD"
      },
      "execution_count": null,
      "outputs": []
    },
    {
      "cell_type": "code",
      "source": [
        "# Take a look at the model summary\n",
        "model.summary()"
      ],
      "metadata": {
        "colab": {
          "base_uri": "https://localhost:8080/"
        },
        "id": "BqtYap1OwPcr",
        "outputId": "113bebc8-f886-46a7-c4da-8a9ff0988bc7"
      },
      "execution_count": null,
      "outputs": [
        {
          "output_type": "stream",
          "name": "stdout",
          "text": [
            "Model: \"sequential_10\"\n",
            "_________________________________________________________________\n",
            " Layer (type)                Output Shape              Param #   \n",
            "=================================================================\n",
            " conv2d_35 (Conv2D)          (None, 64, 64, 32)        896       \n",
            "                                                                 \n",
            " activation_35 (Activation)  (None, 64, 64, 32)        0         \n",
            "                                                                 \n",
            " max_pooling2d_35 (MaxPoolin  (None, 32, 32, 32)       0         \n",
            " g2D)                                                            \n",
            "                                                                 \n",
            " conv2d_36 (Conv2D)          (None, 32, 32, 64)        18496     \n",
            "                                                                 \n",
            " activation_36 (Activation)  (None, 32, 32, 64)        0         \n",
            "                                                                 \n",
            " max_pooling2d_36 (MaxPoolin  (None, 16, 16, 64)       0         \n",
            " g2D)                                                            \n",
            "                                                                 \n",
            " flatten_10 (Flatten)        (None, 16384)             0         \n",
            "                                                                 \n",
            " dense_30 (Dense)            (None, 128)               2097280   \n",
            "                                                                 \n",
            " dropout_20 (Dropout)        (None, 128)               0         \n",
            "                                                                 \n",
            " dense_31 (Dense)            (None, 64)                8256      \n",
            "                                                                 \n",
            " dropout_21 (Dropout)        (None, 64)                0         \n",
            "                                                                 \n",
            " dense_32 (Dense)            (None, 1)                 65        \n",
            "                                                                 \n",
            "=================================================================\n",
            "Total params: 2,124,993\n",
            "Trainable params: 2,124,993\n",
            "Non-trainable params: 0\n",
            "_________________________________________________________________\n"
          ]
        }
      ]
    },
    {
      "cell_type": "markdown",
      "source": [
        "## Step 3: Accept file uploads\n",
        "\n",
        "We want to allow the user of the website to upload their own images to our website for our model to make predictions on. This can be accomplished by the following line:\n",
        "\n",
        "`f = st.file_uploader(\"Upload Image\")`\n",
        "\n",
        "We can then extract and display with the following lines of code\n",
        "\n",
        "```\n",
        "if f is not None:\n",
        "  file_bytes = np.asarray(bytearray(f.read()), dtype=np.uint8)\n",
        "  image = cv2.imdecode(file_bytes, 1)\n",
        "  st.image(image, channels=\"BGR\")\n",
        "```\n",
        "\n",
        "Exercise: Add this code to app.py, run the website and try it out!\n",
        "\n",
        "Hint: Dont forget to\n",
        "\n",
        "`import numpy as np`\n",
        "\n",
        "and\n",
        "\n",
        "`import cv2`\n",
        "\n",
        "at the top of the file."
      ],
      "metadata": {
        "id": "jG7GJI1MwgLJ"
      }
    },
    {
      "cell_type": "code",
      "source": [
        "%%writefile app.py\n",
        "import streamlit as st\n",
        "import zipfile\n",
        "import base64\n",
        "import numpy as np\n",
        "import cv2\n",
        "import tensorflow as tf\n",
        "from PIL import Image\n",
        "\n",
        "# Extract the CNN model from the zip file\n",
        "cnn_path = \"/content/gdrive/My Drive/cnn.zip\"\n",
        "with zipfile.ZipFile(cnn_path, 'r') as zip_ref:\n",
        "    zip_ref.extractall('')\n",
        "\n",
        "# Load the CNN model\n",
        "cnn = # YOUR CODE HERE\n",
        "\n",
        "# Create a Title\n",
        "# YOUR CODE HERE\n",
        "\n",
        "# Function to process the uploaded image into a format that the model can use\n",
        "def process_image(image):\n",
        "    # Convert the image to RGB mode\n",
        "    image = image.convert('RGB')\n",
        "\n",
        "    # Resize the image\n",
        "    image = image.resize((64, 64))\n",
        "\n",
        "    # Convert the image to an array and normalize\n",
        "    img_array = np.array(image).astype('float32')\n",
        "    img_array = img_array / 255.0\n",
        "\n",
        "    # Expand dimensions to match the expected input shape\n",
        "    img_array = np.expand_dims(img_array, axis=0)\n",
        "\n",
        "    return img_array\n",
        "\n",
        "# Display the image upload widget using st.file_uploader\n",
        "# YOUR CODE HERE\n",
        "\n",
        "# Perform prediction and display the result\n",
        "if uploaded_file is not None:\n",
        "    # Read the uploaded image\n",
        "    image = Image.open(YOUR CODE HERE)\n",
        "\n",
        "    # Process and classify the image\n",
        "    processed_image = YOUR CODE HERE\n",
        "    prediction = YOUR CODE HERE\n",
        "    diagnoses = YOUR CODE HERE\n",
        "    pred_diagnosis = YOUR CODE HERE\n",
        "\n",
        "    # Display the processed image\n",
        "    YOUR CODE HERE\n",
        "\n",
        "    # Display the predicted diagnosis\n",
        "    st.header(\"Prediction\")\n",
        "    st.subheader(\"Diagnosis\")\n",
        "    st.write(pred_diagnosis)\n"
      ],
      "metadata": {
        "id": "_3UUT4u_OKPP"
      },
      "execution_count": null,
      "outputs": []
    },
    {
      "cell_type": "code",
      "source": [
        "#@title Instructor Solution\n",
        "%%writefile app.py\n",
        "import streamlit as st\n",
        "import zipfile\n",
        "import base64\n",
        "import numpy as np\n",
        "import cv2\n",
        "import tensorflow as tf\n",
        "from PIL import Image\n",
        "\n",
        "# Extract the CNN model from the zip file\n",
        "cnn_path = \"/content/gdrive/My Drive/cnn.zip\"\n",
        "with zipfile.ZipFile(cnn_path, 'r') as zip_ref:\n",
        "    zip_ref.extractall('')\n",
        "\n",
        "# Load the CNN model\n",
        "cnn = tf.keras.models.load_model('cnn')\n",
        "\n",
        "# Define the Streamlit app\n",
        "st.title(\"Medical Imaging\")\n",
        "\n",
        "# Function to process and classify the uploaded image\n",
        "def process_image(image):\n",
        "    # Convert the image to RGB mode\n",
        "    image = image.convert('RGB')\n",
        "\n",
        "    # Resize the image\n",
        "    image = image.resize((64, 64))\n",
        "\n",
        "    # Convert the image to an array and normalize\n",
        "    img_array = np.array(image).astype('float32')\n",
        "    img_array = img_array / 255.0\n",
        "\n",
        "    # Expand dimensions to match the expected input shape\n",
        "    img_array = np.expand_dims(img_array, axis=0)\n",
        "\n",
        "    return img_array\n",
        "\n",
        "# Display the image upload widget\n",
        "uploaded_file = st.file_uploader(\"Select Image\", type=[\"png\", \"jpg\", \"jpeg\"])\n",
        "\n",
        "# Perform prediction and display the result\n",
        "if uploaded_file is not None:\n",
        "    # Read the uploaded image\n",
        "    image = Image.open(uploaded_file)\n",
        "\n",
        "    # Process and classify the image\n",
        "    processed_image = process_image(image)\n",
        "    prediction = cnn.predict(processed_image)\n",
        "    prediction_label = (prediction > 0.5).astype(int)\n",
        "    diagnosis = \"Pneumonia\" if prediction_label else \"No Pneumonia\"\n",
        "\n",
        "    # Display the processed image\n",
        "    st.image(image)\n",
        "\n",
        "    # Display the predicted diagnosis\n",
        "    st.header(\"Prediction\")\n",
        "    st.subheader(\"Diagnosis\")\n",
        "    st.write(diagnosis)"
      ],
      "metadata": {
        "colab": {
          "base_uri": "https://localhost:8080/"
        },
        "id": "yMQJpGnFFQ1d",
        "outputId": "ebdb9c11-777a-43c3-f0e5-fcd89b182251",
        "cellView": "form"
      },
      "execution_count": null,
      "outputs": [
        {
          "output_type": "stream",
          "name": "stdout",
          "text": [
            "Overwriting app.py\n"
          ]
        }
      ]
    },
    {
      "cell_type": "markdown",
      "source": [
        "While running your site, you can try fetching some images from our original dataset below. You can download the image by right-clicking the generated image and `Save image as...` before uploading it to your site!"
      ],
      "metadata": {
        "id": "NqcAZeUZsNNO"
      }
    },
    {
      "cell_type": "code",
      "source": [
        "#@title Fetch Image { run: \"auto\", vertical-output: true, display-mode: \"form\" }\n",
        "import numpy as np\n",
        "import matplotlib.pyplot as plt\n",
        "from PIL import Image\n",
        "\n",
        "# Load the image data\n",
        "image_data = np.load('image_data.npy')\n",
        "\n",
        "# Load the metadata\n",
        "metadata = pkg.get_metadata(metadata_path, ['train', 'test'])\n",
        "\n",
        "# Choose an index to download the corresponding image\n",
        "input_index = \"4\" #@param {type:\"string\"}\n",
        "index = int(input_index)\n",
        "\n",
        "# Get the image from the data array\n",
        "image = image_data[index]\n",
        "\n",
        "# Remove the extra channel if it exists\n",
        "if image.shape[-1] == 4:\n",
        "    image = image[:, :, :3]\n",
        "\n",
        "# Create a PIL image object\n",
        "pil_image = Image.fromarray(np.uint8(image))\n",
        "\n",
        "# Get the label for the image using the metadata\n",
        "label = metadata.iloc[index]['class']  # Replace 'class' with the appropriate column name in your metadata\n",
        "if label == 0:\n",
        "    label = 'No Pneumonia'\n",
        "else:\n",
        "    label = 'Pneumonia'\n",
        "\n",
        "# Display the image\n",
        "plt.imshow(image)\n",
        "plt.axis('off')\n",
        "plt.title('Image')\n",
        "plt.show()\n",
        "\n",
        "# Print the label to the terminal\n",
        "print(f'Label: {label}')"
      ],
      "metadata": {
        "colab": {
          "base_uri": "https://localhost:8080/",
          "height": 445
        },
        "id": "Q6-67Rs_QYA4",
        "outputId": "deefae3a-0954-495b-bee0-1f98b72e652f"
      },
      "execution_count": null,
      "outputs": [
        {
          "output_type": "display_data",
          "data": {
            "text/plain": [
              "<Figure size 640x480 with 1 Axes>"
            ],
            "image/png": "[encoded data removed]"
          },
          "metadata": {}
        },
        {
          "output_type": "stream",
          "name": "stdout",
          "text": [
            "Label: Pneumonia\n"
          ]
        }
      ]
    },
    {
      "cell_type": "code",
      "source": [
        "from pyngrok import ngrok\n",
        "#Publish Web App (Run this again whenever you make changes)\n",
        "launch_website()"
      ],
      "metadata": {
        "colab": {
          "base_uri": "https://localhost:8080/"
        },
        "id": "EgWjdatpFYzl",
        "outputId": "a5085f3b-c3b1-485b-f006-e129f538c6cd"
      },
      "execution_count": null,
      "outputs": [
        {
          "output_type": "stream",
          "name": "stderr",
          "text": [
            "WARNING:pyngrok.process.ngrok:t=2023-07-14T17:00:24+0000 lvl=warn msg=\"ngrok config file found at legacy location, move to XDG location\" xdg_path=/root/.config/ngrok/ngrok.yml legacy_path=/root/.ngrok2/ngrok.yml\n"
          ]
        },
        {
          "output_type": "stream",
          "name": "stdout",
          "text": [
            "NgrokTunnel: \"https://bdc2-35-229-156-49.ngrok-free.app\" -> \"http://localhost:80\"\n",
            "\n",
            "Collecting usage statistics. To deactivate, set browser.gatherUsageStats to False.\n",
            "\u001b[0m\n",
            "\u001b[0m\n",
            "\u001b[34m\u001b[1m  You can now view your Streamlit app in your browser.\u001b[0m\n",
            "\u001b[0m\n",
            "\u001b[34m  Network URL: \u001b[0m\u001b[1mhttp://172.28.0.12:80\u001b[0m\n",
            "\u001b[34m  External URL: \u001b[0m\u001b[1mhttp://35.229.156.49:80\u001b[0m\n",
            "\u001b[0m\n",
            "2023-07-14 17:00:43.145669: W tensorflow/compiler/tf2tensorrt/utils/py_utils.cc:38] TF-TRT Warning: Could not find TensorRT\n",
            "1/1 [==============================] - 0s 142ms/step\n",
            "\u001b[34m  Stopping...\u001b[0m\n",
            "\u001b[34m  Stopping...\u001b[0m\n"
          ]
        }
      ]
    },
    {
      "cell_type": "markdown",
      "source": [
        "#### (Optional, if time permits) Spend some time thinking about better ways to visualize and use the model, and update app.py"
      ],
      "metadata": {
        "id": "mqLHpRwyXjSX"
      }
    },
    {
      "cell_type": "code",
      "source": [
        "%%writefile app.py\n",
        "import streamlit as st\n",
        "import zipfile\n",
        "import base64\n",
        "import numpy as np\n",
        "import cv2\n",
        "import tensorflow as tf\n",
        "from PIL import Image\n",
        "\n",
        "# Extract the CNN model from the zip file\n",
        "cnn_path = \"/content/gdrive/My Drive/cnn.zip\"\n",
        "with zipfile.ZipFile(cnn_path, 'r') as zip_ref:\n",
        "    zip_ref.extractall('')\n",
        "\n",
        "# Load the CNN model\n",
        "cnn = # YOUR CODE HERE\n",
        "\n",
        "# Create a Title\n",
        "# YOUR CODE HERE\n",
        "\n",
        "# Function to process the uploaded image into a format that the model can use\n",
        "def process_image(image):\n",
        "    # Convert the image to RGB mode\n",
        "    image = image.convert('RGB')\n",
        "\n",
        "    # Resize the image\n",
        "    image = image.resize((64, 64))\n",
        "\n",
        "    # Convert the image to an array and normalize\n",
        "    img_array = np.array(image).astype('float32')\n",
        "    img_array = img_array / 255.0\n",
        "\n",
        "    # Expand dimensions to match the expected input shape\n",
        "    img_array = np.expand_dims(img_array, axis=0)\n",
        "\n",
        "    return img_array\n",
        "\n",
        "# Display the image upload widget using st.file_uploader\n",
        "# YOUR CODE HERE\n",
        "\n",
        "# Perform prediction and display the result\n",
        "if uploaded_file is not None:\n",
        "    # Read the uploaded image\n",
        "    image = Image.open(YOUR CODE HERE)\n",
        "\n",
        "    # Process and classify the image\n",
        "    processed_image = YOUR CODE HERE\n",
        "    prediction = YOUR CODE HERE\n",
        "    diagnoses = YOUR CODE HERE\n",
        "    pred_diagnosis = YOUR CODE HERE\n",
        "\n",
        "    # Display the processed image\n",
        "    YOUR CODE HERE\n",
        "\n",
        "    # Display the predicted diagnosis\n",
        "    st.header(\"Prediction\")\n",
        "    st.subheader(\"Diagnosis\")\n",
        "    st.write(pred_diagnosis)\n"
      ],
      "metadata": {
        "id": "n2JNKkKlFe_Q"
      },
      "execution_count": null,
      "outputs": []
    },
    {
      "cell_type": "code",
      "source": [
        "#@title Example Solution\n",
        "%%writefile app.py\n",
        "import streamlit as st\n",
        "import zipfile\n",
        "import base64\n",
        "import numpy as np\n",
        "import cv2\n",
        "import tensorflow as tf\n",
        "from PIL import Image\n",
        "\n",
        "# Extract the CNN model from the zip file\n",
        "cnn_path = \"/content/gdrive/My Drive/cnn.zip\"\n",
        "with zipfile.ZipFile(cnn_path, 'r') as zip_ref:\n",
        "    zip_ref.extractall('')\n",
        "\n",
        "# Load the CNN model\n",
        "cnn = tf.keras.models.load_model('cnn')\n",
        "\n",
        "# Define the Streamlit app\n",
        "st.title(\"Medical Imaging\")\n",
        "\n",
        "# Function to process and classify the uploaded image\n",
        "def process_image(image):\n",
        "    # Convert the image to RGB mode\n",
        "    image = image.convert('RGB')\n",
        "\n",
        "    # Resize the image\n",
        "    image = image.resize((64, 64))\n",
        "\n",
        "    # Convert the image to an array and normalize\n",
        "    img_array = np.array(image).astype('float32')\n",
        "    img_array = img_array / 255.0\n",
        "\n",
        "    # Expand dimensions to match the expected input shape\n",
        "    img_array = np.expand_dims(img_array, axis=0)\n",
        "\n",
        "    return img_array\n",
        "\n",
        "# Display the image upload widget\n",
        "uploaded_file = st.file_uploader(\"Select Image\", type=[\"png\", \"jpg\", \"jpeg\"])\n",
        "\n",
        "# Perform prediction and display the result\n",
        "if uploaded_file is not None:\n",
        "    # Read the uploaded image\n",
        "    image = Image.open(uploaded_file)\n",
        "\n",
        "    # Process and classify the image\n",
        "    processed_image = process_image(image)\n",
        "    prediction = cnn.predict(processed_image)\n",
        "    prediction_label = (prediction > 0.5).astype(int)\n",
        "    diagnosis = \"Pneumonia\" if prediction_label else \"No Pneumonia\"\n",
        "\n",
        "    # Display the processed image\n",
        "    st.image(image)\n",
        "\n",
        "    # Display the predicted diagnosis and confidence score\n",
        "    confidence = prediction[0][0] if prediction_label else 1 - prediction[0][0]\n",
        "    st.header(\"Prediction\")\n",
        "    st.subheader(\"Diagnosis\")\n",
        "    st.write(diagnosis)\n",
        "    st.subheader(\"Confidence Score\")\n",
        "    st.write(f\"{confidence * 100:.2f}%\")\n",
        "\n",
        "    # Get the output of intermediate layers\n",
        "    intermediate_layer_model = tf.keras.models.Model(inputs=cnn.input, outputs=cnn.layers[3].output)\n",
        "    intermediate_output = intermediate_layer_model.predict(processed_image)\n",
        "\n",
        "# Display the model architecture\n",
        "st.subheader(\"Model Architecture\")\n",
        "st.text(cnn.summary())"
      ],
      "metadata": {
        "cellView": "form",
        "id": "agFLl7VhbxPQ"
      },
      "execution_count": null,
      "outputs": []
    }
  ],
  "metadata": {
    "colab": {
      "provenance": [],
      "include_colab_link": true
    },
    "kernelspec": {
      "display_name": "Python 3",
      "name": "python3"
    }
  },
  "nbformat": 4,
  "nbformat_minor": 0
}